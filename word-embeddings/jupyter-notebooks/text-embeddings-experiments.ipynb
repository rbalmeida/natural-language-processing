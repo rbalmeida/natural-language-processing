{
 "cells": [
  {
   "attachments": {},
   "cell_type": "markdown",
   "metadata": {},
   "source": [
    "# Studies on Text Embeddings\n",
    "## General Objective\n",
    "The main objective is to study the subject area of text Embeddings.\n",
    "\n",
    "\n",
    "## References\n",
    "1. Raaijmakers, S. Deep Learning for Natural Language Processing. 2022. Manning Publications. \n"
   ]
  },
  {
   "cell_type": "code",
   "execution_count": 1,
   "metadata": {},
   "outputs": [
    {
     "name": "stdout",
     "output_type": "stream",
     "text": [
      "1/1 [==============================] - 1s 973ms/step\n"
     ]
    }
   ],
   "source": [
    "from keras.models import Sequential\n",
    "from keras.layers import Embedding\n",
    "import numpy as np\n",
    "\n",
    "model = Sequential()\n",
    "model.add(Embedding(100, 8, input_length=10))\n",
    "\n",
    "input_array = np.random.randint(100, size=(10, 10))\n",
    "\n",
    "model.compile('rmsprop', 'mse')\n",
    "\n",
    "output_array = model.predict(input_array)\n",
    "\n",
    "print(output_array)"
   ]
  }
 ],
 "metadata": {
  "kernelspec": {
   "display_name": "Python 3",
   "language": "python",
   "name": "python3"
  },
  "language_info": {
   "codemirror_mode": {
    "name": "ipython",
    "version": 3
   },
   "file_extension": ".py",
   "mimetype": "text/x-python",
   "name": "python",
   "nbconvert_exporter": "python",
   "pygments_lexer": "ipython3",
   "version": "3.11.1"
  },
  "orig_nbformat": 4
 },
 "nbformat": 4,
 "nbformat_minor": 2
}
