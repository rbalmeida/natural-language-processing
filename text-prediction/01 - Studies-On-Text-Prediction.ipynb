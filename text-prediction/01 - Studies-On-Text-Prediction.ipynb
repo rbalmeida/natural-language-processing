{
 "cells": [
  {
   "cell_type": "markdown",
   "metadata": {},
   "source": [
    "# Studies on Text Prediction\n",
    "## General Objective\n",
    "The main objective is to study the subject area of text prediction.\n",
    "\n",
    "## Specific Objectives\n",
    "- Understand conceps for a text prediction model by gathering reference information on the subject\n",
    "- Run experiments to consolidate knowledge about text prediction models\n",
    "- Implement template code that could be used to bootstrap text prediction applications\n"
   ]
  }
 ],
 "metadata": {
  "kernelspec": {
   "display_name": "Python 3",
   "language": "python",
   "name": "python3"
  },
  "language_info": {
   "codemirror_mode": {
    "name": "ipython",
    "version": 3
   },
   "file_extension": ".py",
   "mimetype": "text/x-python",
   "name": "python",
   "nbconvert_exporter": "python",
   "pygments_lexer": "ipython3",
   "version": "3.7.3"
  }
 },
 "nbformat": 4,
 "nbformat_minor": 4
}
