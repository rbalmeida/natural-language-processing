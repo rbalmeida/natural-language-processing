{
 "cells": [
  {
   "cell_type": "markdown",
   "metadata": {},
   "source": [
    "# Studies on Text Prediction\n",
    "## General Objective\n",
    "The main objective is to study the subject area of text prediction.\n",
    "\n",
    "## Specific Objectives\n",
    "- Understand conceps for a text prediction model by gathering reference information on the subject\n",
    "- Run experiments to consolidate knowledge about text prediction models\n",
    "- Implement template code that could be used to bootstrap text prediction applications\n",
    "\n",
    "\n",
    "## Libraries and frameworks to be experimented\n",
    "- TensorFlow\n",
    "- NLTK"
   ]
  },
  {
   "cell_type": "code",
   "execution_count": 8,
   "metadata": {},
   "outputs": [],
   "source": [
    "import tensorflow as tf"
   ]
  },
  {
   "cell_type": "code",
   "execution_count": 9,
   "metadata": {},
   "outputs": [
    {
     "name": "stdout",
     "output_type": "stream",
     "text": [
      "GPU available: /device:GPU:0\n"
     ]
    }
   ],
   "source": [
    "# Check if GPU is available\n",
    "if tf.test.is_gpu_available():\n",
    "    print('GPU available: {}'.format(tf.test.gpu_device_name()))\n",
    "else:\n",
    "    print('GPU not available.')"
   ]
  },
  {
   "cell_type": "code",
   "execution_count": null,
   "metadata": {},
   "outputs": [],
   "source": []
  }
 ],
 "metadata": {
  "kernelspec": {
   "display_name": "Python 2",
   "language": "python",
   "name": "python2"
  },
  "language_info": {
   "codemirror_mode": {
    "name": "ipython",
    "version": 2
   },
   "file_extension": ".py",
   "mimetype": "text/x-python",
   "name": "python",
   "nbconvert_exporter": "python",
   "pygments_lexer": "ipython2",
   "version": "2.7.15+"
  }
 },
 "nbformat": 4,
 "nbformat_minor": 4
}
